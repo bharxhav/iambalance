{
 "cells": [
  {
   "cell_type": "code",
   "execution_count": 1,
   "metadata": {},
   "outputs": [],
   "source": [
    "import sys\n",
    "from pathlib import Path"
   ]
  },
  {
   "cell_type": "code",
   "execution_count": 2,
   "metadata": {},
   "outputs": [],
   "source": [
    "project_root = Path.cwd().parent\n",
    "sys.path.insert(0, str(project_root / \"src\"))"
   ]
  },
  {
   "cell_type": "code",
   "execution_count": 3,
   "metadata": {},
   "outputs": [],
   "source": [
    "from iambalance import Purity, Oversampler"
   ]
  },
  {
   "cell_type": "code",
   "execution_count": 4,
   "metadata": {},
   "outputs": [],
   "source": [
    "import numpy as np\n",
    "import pandas as pd\n",
    "import matplotlib.pyplot as plt\n",
    "import seaborn as sns"
   ]
  },
  {
   "cell_type": "code",
   "execution_count": 5,
   "metadata": {},
   "outputs": [
    {
     "data": {
      "text/html": [
       "<div>\n",
       "<style scoped>\n",
       "    .dataframe tbody tr th:only-of-type {\n",
       "        vertical-align: middle;\n",
       "    }\n",
       "\n",
       "    .dataframe tbody tr th {\n",
       "        vertical-align: top;\n",
       "    }\n",
       "\n",
       "    .dataframe thead th {\n",
       "        text-align: right;\n",
       "    }\n",
       "</style>\n",
       "<table border=\"1\" class=\"dataframe\">\n",
       "  <thead>\n",
       "    <tr style=\"text-align: right;\">\n",
       "      <th></th>\n",
       "      <th>CD_REFERRAL_SOURCE</th>\n",
       "      <th>CD_ACS_REFERRAL_SOURCE</th>\n",
       "      <th>CD_CLOSING</th>\n",
       "      <th>ID_PROGRAM</th>\n",
       "      <th>ID_PROMIS_AGENCY</th>\n",
       "      <th>ID_CNNX_AGENCY</th>\n",
       "      <th>ID_CUR_PROGRAM_TYPE</th>\n",
       "      <th>CD_PROGRAM_TYPE</th>\n",
       "      <th>CD_PROGRAM_GROUP</th>\n",
       "      <th>CD_PROGRAM_CATEGORY</th>\n",
       "      <th>...</th>\n",
       "      <th>NBR_SA_FATALITY</th>\n",
       "      <th>NBR_PROMIS_GEN</th>\n",
       "      <th>NBR_PROMIS_EBM</th>\n",
       "      <th>NBR_PROMIS_FTR</th>\n",
       "      <th>NBR_PROMIS_NPR</th>\n",
       "      <th>NBR_PROMIS_MED</th>\n",
       "      <th>CD_PROMIS_CUR_TYPE</th>\n",
       "      <th>NBR_STAGE_ARI</th>\n",
       "      <th>NBR_STAGE_FSS</th>\n",
       "      <th>bin</th>\n",
       "    </tr>\n",
       "  </thead>\n",
       "  <tbody>\n",
       "    <tr>\n",
       "      <th>0</th>\n",
       "      <td>15</td>\n",
       "      <td>1</td>\n",
       "      <td>6.0</td>\n",
       "      <td>341</td>\n",
       "      <td>342</td>\n",
       "      <td>0</td>\n",
       "      <td>630</td>\n",
       "      <td>6</td>\n",
       "      <td>16</td>\n",
       "      <td>3</td>\n",
       "      <td>...</td>\n",
       "      <td>0</td>\n",
       "      <td>0</td>\n",
       "      <td>0</td>\n",
       "      <td>1</td>\n",
       "      <td>0</td>\n",
       "      <td>1</td>\n",
       "      <td>1</td>\n",
       "      <td>0</td>\n",
       "      <td>1</td>\n",
       "      <td>train</td>\n",
       "    </tr>\n",
       "    <tr>\n",
       "      <th>1</th>\n",
       "      <td>3</td>\n",
       "      <td>0</td>\n",
       "      <td>7.0</td>\n",
       "      <td>595</td>\n",
       "      <td>199</td>\n",
       "      <td>8</td>\n",
       "      <td>883</td>\n",
       "      <td>4</td>\n",
       "      <td>8</td>\n",
       "      <td>2</td>\n",
       "      <td>...</td>\n",
       "      <td>0</td>\n",
       "      <td>1</td>\n",
       "      <td>0</td>\n",
       "      <td>0</td>\n",
       "      <td>0</td>\n",
       "      <td>0</td>\n",
       "      <td>2</td>\n",
       "      <td>0</td>\n",
       "      <td>1</td>\n",
       "      <td>train</td>\n",
       "    </tr>\n",
       "    <tr>\n",
       "      <th>2</th>\n",
       "      <td>3</td>\n",
       "      <td>0</td>\n",
       "      <td>1.0</td>\n",
       "      <td>156</td>\n",
       "      <td>200</td>\n",
       "      <td>59</td>\n",
       "      <td>480</td>\n",
       "      <td>4</td>\n",
       "      <td>8</td>\n",
       "      <td>2</td>\n",
       "      <td>...</td>\n",
       "      <td>0</td>\n",
       "      <td>2</td>\n",
       "      <td>0</td>\n",
       "      <td>0</td>\n",
       "      <td>0</td>\n",
       "      <td>0</td>\n",
       "      <td>2</td>\n",
       "      <td>0</td>\n",
       "      <td>2</td>\n",
       "      <td>train</td>\n",
       "    </tr>\n",
       "    <tr>\n",
       "      <th>3</th>\n",
       "      <td>17</td>\n",
       "      <td>2</td>\n",
       "      <td>1.0</td>\n",
       "      <td>500</td>\n",
       "      <td>195</td>\n",
       "      <td>17</td>\n",
       "      <td>788</td>\n",
       "      <td>4</td>\n",
       "      <td>8</td>\n",
       "      <td>2</td>\n",
       "      <td>...</td>\n",
       "      <td>0</td>\n",
       "      <td>2</td>\n",
       "      <td>0</td>\n",
       "      <td>0</td>\n",
       "      <td>0</td>\n",
       "      <td>0</td>\n",
       "      <td>2</td>\n",
       "      <td>0</td>\n",
       "      <td>2</td>\n",
       "      <td>train</td>\n",
       "    </tr>\n",
       "    <tr>\n",
       "      <th>4</th>\n",
       "      <td>3</td>\n",
       "      <td>0</td>\n",
       "      <td>1.0</td>\n",
       "      <td>157</td>\n",
       "      <td>201</td>\n",
       "      <td>23</td>\n",
       "      <td>481</td>\n",
       "      <td>4</td>\n",
       "      <td>8</td>\n",
       "      <td>2</td>\n",
       "      <td>...</td>\n",
       "      <td>0</td>\n",
       "      <td>1</td>\n",
       "      <td>0</td>\n",
       "      <td>0</td>\n",
       "      <td>0</td>\n",
       "      <td>0</td>\n",
       "      <td>2</td>\n",
       "      <td>0</td>\n",
       "      <td>1</td>\n",
       "      <td>test</td>\n",
       "    </tr>\n",
       "  </tbody>\n",
       "</table>\n",
       "<p>5 rows × 167 columns</p>\n",
       "</div>"
      ],
      "text/plain": [
       "   CD_REFERRAL_SOURCE  CD_ACS_REFERRAL_SOURCE  CD_CLOSING  ID_PROGRAM  \\\n",
       "0                  15                       1         6.0         341   \n",
       "1                   3                       0         7.0         595   \n",
       "2                   3                       0         1.0         156   \n",
       "3                  17                       2         1.0         500   \n",
       "4                   3                       0         1.0         157   \n",
       "\n",
       "   ID_PROMIS_AGENCY  ID_CNNX_AGENCY  ID_CUR_PROGRAM_TYPE  CD_PROGRAM_TYPE  \\\n",
       "0               342               0                  630                6   \n",
       "1               199               8                  883                4   \n",
       "2               200              59                  480                4   \n",
       "3               195              17                  788                4   \n",
       "4               201              23                  481                4   \n",
       "\n",
       "   CD_PROGRAM_GROUP  CD_PROGRAM_CATEGORY  ...  NBR_SA_FATALITY  \\\n",
       "0                16                    3  ...                0   \n",
       "1                 8                    2  ...                0   \n",
       "2                 8                    2  ...                0   \n",
       "3                 8                    2  ...                0   \n",
       "4                 8                    2  ...                0   \n",
       "\n",
       "   NBR_PROMIS_GEN  NBR_PROMIS_EBM  NBR_PROMIS_FTR  NBR_PROMIS_NPR  \\\n",
       "0               0               0               1               0   \n",
       "1               1               0               0               0   \n",
       "2               2               0               0               0   \n",
       "3               2               0               0               0   \n",
       "4               1               0               0               0   \n",
       "\n",
       "   NBR_PROMIS_MED  CD_PROMIS_CUR_TYPE  NBR_STAGE_ARI  NBR_STAGE_FSS    bin  \n",
       "0               1                   1              0              1  train  \n",
       "1               0                   2              0              1  train  \n",
       "2               0                   2              0              2  train  \n",
       "3               0                   2              0              2  train  \n",
       "4               0                   2              0              1   test  \n",
       "\n",
       "[5 rows x 167 columns]"
      ]
     },
     "execution_count": 5,
     "metadata": {},
     "output_type": "execute_result"
    }
   ],
   "source": [
    "df = pd.read_csv('../test_db/stc_production.csv')\n",
    "df.head()"
   ]
  },
  {
   "cell_type": "code",
   "execution_count": 6,
   "metadata": {},
   "outputs": [
    {
     "name": "stdout",
     "output_type": "stream",
     "text": [
      "<class 'pandas.core.frame.DataFrame'>\n",
      "RangeIndex: 224197 entries, 0 to 224196\n",
      "Columns: 167 entries, CD_REFERRAL_SOURCE to bin\n",
      "dtypes: float64(5), int64(161), object(1)\n",
      "memory usage: 285.7+ MB\n"
     ]
    }
   ],
   "source": [
    "df.info()"
   ]
  },
  {
   "cell_type": "code",
   "execution_count": 7,
   "metadata": {},
   "outputs": [],
   "source": [
    "df.drop(columns=['bin'], inplace=True)"
   ]
  },
  {
   "cell_type": "code",
   "execution_count": 8,
   "metadata": {},
   "outputs": [
    {
     "data": {
      "text/plain": [
       "CD_PROGRAM_GROUP\n",
       "8     100445\n",
       "5      30773\n",
       "7      28961\n",
       "6      19925\n",
       "3       8520\n",
       "4       6702\n",
       "16      4972\n",
       "0       4788\n",
       "2       4459\n",
       "12      2801\n",
       "15      2444\n",
       "13      2195\n",
       "17      1805\n",
       "10      1657\n",
       "11      1343\n",
       "1       1257\n",
       "9        637\n",
       "14       513\n",
       "Name: count, dtype: int64"
      ]
     },
     "execution_count": 8,
     "metadata": {},
     "output_type": "execute_result"
    }
   ],
   "source": [
    "df['CD_PROGRAM_GROUP'].value_counts()"
   ]
  },
  {
   "cell_type": "code",
   "execution_count": 9,
   "metadata": {},
   "outputs": [],
   "source": [
    "# Testing the fit_resample method\n",
    "oversampler = Oversampler(['smote', 'random'], [0.5, 0.5], 1)"
   ]
  },
  {
   "cell_type": "code",
   "execution_count": 10,
   "metadata": {},
   "outputs": [
    {
     "data": {
      "text/plain": [
       "CD_PROGRAM_GROUP\n",
       "14    500\n",
       "Name: count, dtype: int64"
      ]
     },
     "execution_count": 10,
     "metadata": {},
     "output_type": "execute_result"
    }
   ],
   "source": [
    "# Testing _fit_resample_adasyn\n",
    "oversampler._fit_resample_adasyn(df, 'CD_PROGRAM_GROUP', 500, 14)[\n",
    "    'CD_PROGRAM_GROUP'].value_counts()"
   ]
  },
  {
   "cell_type": "code",
   "execution_count": 11,
   "metadata": {},
   "outputs": [
    {
     "data": {
      "text/plain": [
       "CD_PROGRAM_GROUP\n",
       "14    500\n",
       "Name: count, dtype: int64"
      ]
     },
     "execution_count": 11,
     "metadata": {},
     "output_type": "execute_result"
    }
   ],
   "source": [
    "# Testing _fit_resample_smote\n",
    "oversampler._fit_resample_smote(df, 'CD_PROGRAM_GROUP', 500, 14)[\n",
    "    'CD_PROGRAM_GROUP'].value_counts()"
   ]
  },
  {
   "cell_type": "code",
   "execution_count": 12,
   "metadata": {},
   "outputs": [
    {
     "data": {
      "text/plain": [
       "CD_PROGRAM_GROUP\n",
       "14    500\n",
       "Name: count, dtype: int64"
      ]
     },
     "execution_count": 12,
     "metadata": {},
     "output_type": "execute_result"
    }
   ],
   "source": [
    "# Testing _fit_resample_random\n",
    "oversampler._fit_resample_random(df, 'CD_PROGRAM_GROUP', 500, 14)[\n",
    "    'CD_PROGRAM_GROUP'].value_counts()"
   ]
  },
  {
   "cell_type": "code",
   "execution_count": null,
   "metadata": {},
   "outputs": [],
   "source": []
  },
  {
   "cell_type": "code",
   "execution_count": 13,
   "metadata": {},
   "outputs": [
    {
     "data": {
      "text/plain": [
       "CD_PROGRAM_GROUP\n",
       "8     100445\n",
       "5      30773\n",
       "7      28961\n",
       "6      19925\n",
       "3       8520\n",
       "4       6702\n",
       "16      4972\n",
       "0       4788\n",
       "2       4459\n",
       "12      2801\n",
       "15      2444\n",
       "13      2195\n",
       "17      1805\n",
       "10      1657\n",
       "11      1343\n",
       "1       1257\n",
       "14      1025\n",
       "9        637\n",
       "Name: count, dtype: int64"
      ]
     },
     "execution_count": 13,
     "metadata": {},
     "output_type": "execute_result"
    }
   ],
   "source": [
    "df_resampled = oversampler.fit_resample(df, 'CD_PROGRAM_GROUP', 14)\n",
    "df_resampled['CD_PROGRAM_GROUP'].value_counts()"
   ]
  },
  {
   "cell_type": "code",
   "execution_count": 14,
   "metadata": {},
   "outputs": [
    {
     "data": {
      "text/html": [
       "<div>\n",
       "<style scoped>\n",
       "    .dataframe tbody tr th:only-of-type {\n",
       "        vertical-align: middle;\n",
       "    }\n",
       "\n",
       "    .dataframe tbody tr th {\n",
       "        vertical-align: top;\n",
       "    }\n",
       "\n",
       "    .dataframe thead th {\n",
       "        text-align: right;\n",
       "    }\n",
       "</style>\n",
       "<table border=\"1\" class=\"dataframe\">\n",
       "  <thead>\n",
       "    <tr style=\"text-align: right;\">\n",
       "      <th></th>\n",
       "      <th>index</th>\n",
       "      <th>method</th>\n",
       "    </tr>\n",
       "  </thead>\n",
       "  <tbody>\n",
       "    <tr>\n",
       "      <th>0</th>\n",
       "      <td>224197</td>\n",
       "      <td>smote</td>\n",
       "    </tr>\n",
       "    <tr>\n",
       "      <th>1</th>\n",
       "      <td>224198</td>\n",
       "      <td>smote</td>\n",
       "    </tr>\n",
       "    <tr>\n",
       "      <th>2</th>\n",
       "      <td>224199</td>\n",
       "      <td>smote</td>\n",
       "    </tr>\n",
       "    <tr>\n",
       "      <th>3</th>\n",
       "      <td>224200</td>\n",
       "      <td>smote</td>\n",
       "    </tr>\n",
       "    <tr>\n",
       "      <th>4</th>\n",
       "      <td>224201</td>\n",
       "      <td>smote</td>\n",
       "    </tr>\n",
       "    <tr>\n",
       "      <th>...</th>\n",
       "      <td>...</td>\n",
       "      <td>...</td>\n",
       "    </tr>\n",
       "    <tr>\n",
       "      <th>507</th>\n",
       "      <td>224704</td>\n",
       "      <td>random</td>\n",
       "    </tr>\n",
       "    <tr>\n",
       "      <th>508</th>\n",
       "      <td>224705</td>\n",
       "      <td>random</td>\n",
       "    </tr>\n",
       "    <tr>\n",
       "      <th>509</th>\n",
       "      <td>224706</td>\n",
       "      <td>random</td>\n",
       "    </tr>\n",
       "    <tr>\n",
       "      <th>510</th>\n",
       "      <td>224707</td>\n",
       "      <td>random</td>\n",
       "    </tr>\n",
       "    <tr>\n",
       "      <th>511</th>\n",
       "      <td>224708</td>\n",
       "      <td>random</td>\n",
       "    </tr>\n",
       "  </tbody>\n",
       "</table>\n",
       "<p>512 rows × 2 columns</p>\n",
       "</div>"
      ],
      "text/plain": [
       "      index  method\n",
       "0    224197   smote\n",
       "1    224198   smote\n",
       "2    224199   smote\n",
       "3    224200   smote\n",
       "4    224201   smote\n",
       "..      ...     ...\n",
       "507  224704  random\n",
       "508  224705  random\n",
       "509  224706  random\n",
       "510  224707  random\n",
       "511  224708  random\n",
       "\n",
       "[512 rows x 2 columns]"
      ]
     },
     "execution_count": 14,
     "metadata": {},
     "output_type": "execute_result"
    }
   ],
   "source": [
    "oversampler.get_oversampled_fingerprint()"
   ]
  },
  {
   "cell_type": "code",
   "execution_count": null,
   "metadata": {},
   "outputs": [],
   "source": []
  }
 ],
 "metadata": {
  "kernelspec": {
   "display_name": ".venv",
   "language": "python",
   "name": "python3"
  },
  "language_info": {
   "codemirror_mode": {
    "name": "ipython",
    "version": 3
   },
   "file_extension": ".py",
   "mimetype": "text/x-python",
   "name": "python",
   "nbconvert_exporter": "python",
   "pygments_lexer": "ipython3",
   "version": "3.11.5"
  }
 },
 "nbformat": 4,
 "nbformat_minor": 2
}
